{
 "cells": [
  {
   "cell_type": "markdown",
   "metadata": {},
   "source": [
    "### SELENIUM \n",
    "\n",
    "Importante aspecto são os **elementos**. Como encontrar texto, botão e etc.\n"
   ]
  },
  {
   "cell_type": "code",
   "execution_count": 6,
   "metadata": {},
   "outputs": [],
   "source": [
    "# Inicializando o WEBDRIVER (Simulador de Navegador)\n",
    "from selenium import webdriver\n",
    "from selenium.webdriver.chrome.service import Service as ChromeService\n",
    "from webdriver_manager.chrome import ChromeDriverManager    \n",
    "from selenium.webdriver.chrome.options import Options       #setar opções\n",
    "from selenium.webdriver.common.by import By                 #encontrar elementos\n",
    "from selenium.webdriver.support.select import Select\n",
    "from selenium.webdriver.common.keys import Keys"
   ]
  },
  {
   "cell_type": "code",
   "execution_count": 7,
   "metadata": {},
   "outputs": [],
   "source": [
    "# Definir os Parametros e Configurações Iniciais do Chrome\n",
    "chrome_options = Options()\n",
    "arguments = ['--lang=pt-BR','--incognito','--window-size=700,700','--disable-notifications']\n",
    "for arg in arguments:\n",
    "    chrome_options.add_argument(arg)"
   ]
  },
  {
   "cell_type": "code",
   "execution_count": 8,
   "metadata": {},
   "outputs": [],
   "source": [
    "# Definir Outras Configurações \n",
    "chrome_options.add_experimental_option('prefs',{\n",
    "    # Alterar o local padrão de download\n",
    "    'download.default_directory':\\\n",
    "        'C:\\\\Users\\\\goncavic01\\\\.vscode\\\\github\\\\Python\\\\Python_Automation-1\\\\Selenium\\\\Downloads',\n",
    "    # Ativar essa mudança\n",
    "    'download.directory_upgrade': True,\n",
    "    # Desabilitar a confirmação de download\n",
    "    'download.prompt_for_download':False,\n",
    "    # Desabilitar notificações\n",
    "    'profile.default.content_setting_values.notifications':2,\n",
    "    # Permitir multiplos donwload\n",
    "    'profile.default_content_setting_value.automatic_downloads':1,\n",
    "}\n",
    ")"
   ]
  },
  {
   "cell_type": "code",
   "execution_count": 11,
   "metadata": {},
   "outputs": [],
   "source": [
    "# Instaciar o driver com a versão atualizada (a maioria das maquinas atualiza o navegador, não o driver)\n",
    "driver = webdriver.Chrome(service=ChromeService(ChromeDriverManager().install()),options=chrome_options)\n",
    "# Navegar ate o site\n",
    "driver.get('https://id.neogrid.com/identity/login')\n",
    "# input('Aperte uma tecla para fechar')\n",
    "driver.implicitly_wait(3)"
   ]
  },
  {
   "cell_type": "markdown",
   "metadata": {},
   "source": [
    "#### DOM - Conjunto do Codigo HTML;\n",
    "Apertando Ctrl + U (codigo fonte) ou F12 para acessar os parametros necessarios.\n",
    "\n",
    "TAG = input;\n",
    "\n",
    "atributo = id;\n",
    "\n",
    "valores = 'email'\n",
    "\n",
    "<input id=\"email\" name=\"email\" title=\"E-mail; "
   ]
  },
  {
   "cell_type": "code",
   "execution_count": 12,
   "metadata": {},
   "outputs": [],
   "source": [
    "# Encontrar pelo ID\n",
    "# y = driver.find_element(By.ID, value='email').click()\n",
    "y = driver.find_element(By.ID, value='email')\n",
    "driver.implicitly_wait(1)\n",
    "y.send_keys('victor.c.goncalves@electrolux.com')\n",
    "\n",
    "x = driver.find_element(By.ID, value='password')\n",
    "driver.implicitly_wait(1)\n",
    "x.send_keys('!Fnrj87vi')\n",
    "\n",
    "# Encontrar pelo NAME\n",
    "# driver.find_element(By.NAME, value='email')\n"
   ]
  },
  {
   "cell_type": "code",
   "execution_count": 13,
   "metadata": {},
   "outputs": [],
   "source": [
    "button_acessar = driver.find_element(By.CLASS_NAME,'button-primary')\n",
    "button_acessar.click()\n",
    "driver.implicitly_wait(5)"
   ]
  }
 ],
 "metadata": {
  "kernelspec": {
   "display_name": "Python 3.10.3 64-bit",
   "language": "python",
   "name": "python3"
  },
  "language_info": {
   "codemirror_mode": {
    "name": "ipython",
    "version": 3
   },
   "file_extension": ".py",
   "mimetype": "text/x-python",
   "name": "python",
   "nbconvert_exporter": "python",
   "pygments_lexer": "ipython3",
   "version": "3.10.3"
  },
  "orig_nbformat": 4,
  "vscode": {
   "interpreter": {
    "hash": "ec1d4173205c176a21ee855261d001adf7156b16bdbf9229300b69a1dc6239d8"
   }
  }
 },
 "nbformat": 4,
 "nbformat_minor": 2
}
